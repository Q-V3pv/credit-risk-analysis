{
 "cells": [
  {
   "cell_type": "code",
   "execution_count": 1,
   "id": "6f58ca86-7055-4a55-ab77-109a2d98a5a2",
   "metadata": {},
   "outputs": [
    {
     "ename": "ModuleNotFoundError",
     "evalue": "No module named 'models'",
     "output_type": "error",
     "traceback": [
      "\u001b[31m---------------------------------------------------------------------------\u001b[39m",
      "\u001b[31mModuleNotFoundError\u001b[39m                       Traceback (most recent call last)",
      "\u001b[36mCell\u001b[39m\u001b[36m \u001b[39m\u001b[32mIn[1]\u001b[39m\u001b[32m, line 5\u001b[39m\n\u001b[32m      2\u001b[39m \u001b[38;5;28;01mimport\u001b[39;00m\u001b[38;5;250m \u001b[39m\u001b[34;01mos\u001b[39;00m\n\u001b[32m      3\u001b[39m sys.path.append(os.path.abspath(\u001b[33m\"\u001b[39m\u001b[33m../src\u001b[39m\u001b[33m\"\u001b[39m))\n\u001b[32m----> \u001b[39m\u001b[32m5\u001b[39m \u001b[38;5;28;01mfrom\u001b[39;00m\u001b[38;5;250m \u001b[39m\u001b[34;01mmodels\u001b[39;00m\u001b[34;01m.\u001b[39;00m\u001b[34;01mlinear_regression_model\u001b[39;00m\u001b[38;5;250m \u001b[39m\u001b[38;5;28;01mimport\u001b[39;00m LinearRegressionModel\n\u001b[32m      7\u001b[39m \u001b[38;5;66;03m# 1. Seleccionar la variable objetivo (interest_rate)\u001b[39;00m\n\u001b[32m      8\u001b[39m target_regresion = \u001b[33m'\u001b[39m\u001b[33minterest_rate\u001b[39m\u001b[33m'\u001b[39m\n",
      "\u001b[31mModuleNotFoundError\u001b[39m: No module named 'models'"
     ]
    }
   ],
   "source": [
    "import sys\n",
    "import os\n",
    "sys.path.append(os.path.abspath(\"../src\"))\n",
    "\n",
    "from models.linear_regression_model import LinearRegressionModel\n",
    "\n",
    "# 1. Seleccionar la variable objetivo (interest_rate)\n",
    "target_regresion = 'interest_rate'\n",
    "\n",
    "# 2. Eliminar filas donde interest_rate esté nulo, si aplica\n",
    "df_regresion = df_encoded.dropna(subset=[target_regresion])\n",
    "\n",
    "# 3. Separar X e y\n",
    "X_regresion = df_regresion.drop(columns=[target_regresion])\n",
    "y_regresion = df_regresion[target_regresion]\n",
    "\n",
    "# 4. Instanciar, entrenar y evaluar el modelo\n",
    "lr_model = LinearRegressionModel()\n",
    "lr_model.split_data(X_regresion, y_regresion)\n",
    "lr_model.train()\n",
    "lr_model.predict()\n",
    "lr_model.evaluate()\n"
   ]
  },
  {
   "cell_type": "code",
   "execution_count": null,
   "id": "fdd2b7c7-e181-42ca-a903-057a5553eb12",
   "metadata": {},
   "outputs": [],
   "source": []
  }
 ],
 "metadata": {
  "kernelspec": {
   "display_name": "Python 3 (ipykernel)",
   "language": "python",
   "name": "python3"
  },
  "language_info": {
   "codemirror_mode": {
    "name": "ipython",
    "version": 3
   },
   "file_extension": ".py",
   "mimetype": "text/x-python",
   "name": "python",
   "nbconvert_exporter": "python",
   "pygments_lexer": "ipython3",
   "version": "3.13.3"
  }
 },
 "nbformat": 4,
 "nbformat_minor": 5
}
